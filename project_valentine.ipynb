{
 "cells": [
  {
   "cell_type": "code",
   "execution_count": 1,
   "metadata": {},
   "outputs": [
    {
     "name": "stdout",
     "output_type": "stream",
     "text": [
      "📅 2025-02-12\n",
      "💭 Take a deep breath—you're right where you need to be. 🌊\n"
     ]
    }
   ],
   "source": [
    "import datetime\n",
    "import random\n",
    "\n",
    "messages = [\n",
    "    \"You're doing great. Keep going. 🚀\",\n",
    "    \"Some days are tough, but so are you. 💪\",\n",
    "    \"You're enough just as you are. 🌿\",\n",
    "    \"Take a deep breath—you're right where you need to be. 🌊\",\n",
    "    \"Keep shining, even when no one's watching. ✨\",\n",
    "    \"A small step forward is still progress. Keep moving. 🏃‍♂️\",\n",
    "    \"You're not alone. You've got this. 💙\"\n",
    "]\n",
    "\n",
    "def daily_message():\n",
    "    today = datetime.date.today()\n",
    "    message = random.choice(messages)\n",
    "    return f\"📅 {today}\\n💭 {message}\"\n",
    "\n",
    "print(daily_message())"
   ]
  }
 ],
 "metadata": {
  "kernelspec": {
   "display_name": "Python 3",
   "language": "python",
   "name": "python3"
  },
  "language_info": {
   "codemirror_mode": {
    "name": "ipython",
    "version": 3
   },
   "file_extension": ".py",
   "mimetype": "text/x-python",
   "name": "python",
   "nbconvert_exporter": "python",
   "pygments_lexer": "ipython3",
   "version": "3.13.1"
  }
 },
 "nbformat": 4,
 "nbformat_minor": 2
}
