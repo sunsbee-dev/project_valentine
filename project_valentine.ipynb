{
 "cells": [
  {
   "cell_type": "code",
   "execution_count": null,
   "metadata": {},
   "outputs": [
    {
     "name": "stdout",
     "output_type": "stream",
     "text": [
      "\n",
      "━━━━━━━━━━━━━━━━━━━━━━━━\n",
      "★彡[ Daily Motivation ]彡★\n",
      "📅 2025-02-13\n",
      "\u001b[1;36m💭 Some days are tough, but so are you. 💪\u001b[0m\n",
      "━━━━━━━━━━━━━━━━━━━━━━━━\n",
      "\n"
     ]
    }
   ],
   "source": [
    "import datetime\n",
    "import random\n",
    "\n",
    "messages = [\n",
    "    \"You're doing great. Keep going. 🚀\",\n",
    "    \"Some days are tough, but so are you. 💪\",\n",
    "    \"You're enough just as you are. 🌿\",\n",
    "    \"Take a deep breath—you're right where you need to be. 🌊\",\n",
    "    \"Keep shining, even when no one's watching. ✨\",\n",
    "    \"A small step forward is still progress. Keep moving. 🏃‍♂️\",\n",
    "    \"You're not alone. You've got this. 💙\"\n",
    "]\n",
    "\n",
    "styles = [\n",
    "    lambda msg: f\"\\033[1;33m{msg}\\033[0m\",  # Bold Yellow\n",
    "    lambda msg: f\"\\033[1;34m{msg}\\033[0m\",  # Bold Blue\n",
    "    lambda msg: f\"\\033[1;32m{msg}\\033[0m\",  # Bold Green\n",
    "    lambda msg: f\"\\033[3;35m{msg}\\033[0m\",  # Italic Purple\n",
    "    lambda msg: f\"\\033[1;36m{msg}\\033[0m\",  # Bold Cyan\n",
    "]\n",
    "\n",
    "def daily_message():\n",
    "    today = datetime.date.today()\n",
    "    message = random.choice(messages)\n",
    "    style = random.choice(styles)\n",
    "    \n",
    "    banner = \"★彡[ Daily Motivation ]彡★\"\n",
    "    border = \"━\" * len(banner)\n",
    "    \n",
    "    styled_message = style(f\"💭 {message}\")\n",
    "    \n",
    "    return f\"\\n{border}\\n{banner}\\n📅 {today}\\n{styled_message}\\n{border}\\n\"\n",
    "\n",
    "print(daily_message())\n",
    "\n",
    "## feature 2\n",
    "\n",
    "## feature 3"
   ]
  }
 ],
 "metadata": {
  "kernelspec": {
   "display_name": "Python 3",
   "language": "python",
   "name": "python3"
  },
  "language_info": {
   "codemirror_mode": {
    "name": "ipython",
    "version": 3
   },
   "file_extension": ".py",
   "mimetype": "text/x-python",
   "name": "python",
   "nbconvert_exporter": "python",
   "pygments_lexer": "ipython3",
   "version": "3.13.1"
  }
 },
 "nbformat": 4,
 "nbformat_minor": 2
}
